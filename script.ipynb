{
 "cells": [
  {
   "cell_type": "code",
   "execution_count": 2,
   "metadata": {},
   "outputs": [],
   "source": [
    "import numpy as np\n",
    "import matplotlib.pyplot as plt"
   ]
  },
  {
   "cell_type": "code",
   "execution_count": 10,
   "metadata": {},
   "outputs": [
    {
     "name": "stdout",
     "output_type": "stream",
     "text": [
      "Random orthogonal basis for R^100:\n"
     ]
    }
   ],
   "source": [
    "def random_orthogonal_basis(k, attack=False):\n",
    "    \"\"\"\n",
    "    Generates a random orthogonal basis for R^k.\n",
    "\n",
    "    Parameters:\n",
    "    k (int): Dimension of the space.\n",
    "\n",
    "    Returns:\n",
    "    np.ndarray: A k x k orthogonal matrix whose columns form an orthogonal basis.\n",
    "    \"\"\"\n",
    "    # Generate a random k x k matrix with entries from a standard normal distribution\n",
    "    A = np.random.randn(k, k)\n",
    "    if attack:\n",
    "        # correct A to start with the cursed vector\n",
    "        A[:,0] = -np.ones(k)\n",
    "        A[0,0] = k**(1/2)\n",
    "        A = A.T\n",
    "    # Perform QR decomposition on A\n",
    "    Q, R = np.linalg.qr(A)\n",
    "    return Q\n",
    "\n",
    "def gram_schmidt(A):\n",
    "    # Perform QR decomposition on A\n",
    "    Q, R = np.linalg.qr(A)\n",
    "    return Q\n",
    "\n",
    "# Example usage:\n",
    "k = 100  # Dimension of the space\n",
    "basis = random_orthogonal_basis(k)\n",
    "print(f\"Random orthogonal basis for R^{k}:\")"
   ]
  },
  {
   "cell_type": "code",
   "execution_count": 18,
   "metadata": {},
   "outputs": [],
   "source": [
    "def inf(matrix):\n",
    "    \"\"\"\n",
    "    Computes the infinity norm of a matrix.\n",
    "\n",
    "    Parameters:\n",
    "    matrix (array-like): A 2D list or NumPy array representing the matrix.\n",
    "\n",
    "    Returns:\n",
    "    float: The infinity norm of the matrix.\n",
    "    \"\"\"\n",
    "    # Ensure the input is a NumPy array\n",
    "    matrix = np.array(matrix)\n",
    "    \n",
    "    # Compute the infinity norm\n",
    "    \n",
    "    infinity_norm = np.sort(np.sum(np.abs(matrix), axis=1))[int(k-1)] #np.max(np.sum(np.abs(matrix), axis=1))\n",
    "    return infinity_norm"
   ]
  },
  {
   "cell_type": "code",
   "execution_count": 5,
   "metadata": {},
   "outputs": [],
   "source": [
    "def get_fourier(k):\n",
    "    mat = np.zeros((k,k))\n",
    "    x = np.pi*np.arange(k)/k\n",
    "    for i in range(k):\n",
    "        mat[:,i] = np.cos(i*x)/(k**0.5)\n",
    "    return mat\n",
    "\n",
    "def get_poly(k):\n",
    "    mat = np.zeros((k,k))\n",
    "    x = np.pi*np.arange(k)/k\n",
    "    for i in range(k):\n",
    "        mat[:,i] = x**i/(k**0.5)\n",
    "    return mat\n"
   ]
  },
  {
   "cell_type": "code",
   "execution_count": 6,
   "metadata": {},
   "outputs": [
    {
     "ename": "KeyboardInterrupt",
     "evalue": "",
     "output_type": "error",
     "traceback": [
      "\u001b[1;31m---------------------------------------------------------------------------\u001b[0m",
      "\u001b[1;31mKeyboardInterrupt\u001b[0m                         Traceback (most recent call last)",
      "Cell \u001b[1;32mIn[6], line 25\u001b[0m\n\u001b[0;32m     21\u001b[0m     \u001b[38;5;28;01mfor\u001b[39;00m d \u001b[38;5;129;01min\u001b[39;00m \u001b[38;5;28mrange\u001b[39m(k):\n\u001b[0;32m     22\u001b[0m \n\u001b[0;32m     23\u001b[0m         \u001b[38;5;66;03m# we incrementally update the matrix adding more and more basis functions\u001b[39;00m\n\u001b[0;32m     24\u001b[0m         mat \u001b[38;5;241m+\u001b[39m\u001b[38;5;241m=\u001b[39m np\u001b[38;5;241m.\u001b[39mdot(basis[:,d:d\u001b[38;5;241m+\u001b[39m\u001b[38;5;241m1\u001b[39m], basis[:,d:d\u001b[38;5;241m+\u001b[39m\u001b[38;5;241m1\u001b[39m]\u001b[38;5;241m.\u001b[39mT)\n\u001b[1;32m---> 25\u001b[0m         infnorms[d] \u001b[38;5;241m=\u001b[39m \u001b[43minf\u001b[49m\u001b[43m(\u001b[49m\u001b[43mmat\u001b[49m\u001b[43m)\u001b[49m\n\u001b[0;32m     27\u001b[0m     plt\u001b[38;5;241m.\u001b[39mplot(x, infnorms, label \u001b[38;5;241m=\u001b[39m labels[i])\n\u001b[0;32m     30\u001b[0m plt\u001b[38;5;241m.\u001b[39mlegend()\n",
      "Cell \u001b[1;32mIn[4], line 16\u001b[0m, in \u001b[0;36minf\u001b[1;34m(matrix)\u001b[0m\n\u001b[0;32m     12\u001b[0m matrix \u001b[38;5;241m=\u001b[39m np\u001b[38;5;241m.\u001b[39marray(matrix)\n\u001b[0;32m     14\u001b[0m \u001b[38;5;66;03m# Compute the infinity norm\u001b[39;00m\n\u001b[1;32m---> 16\u001b[0m infinity_norm \u001b[38;5;241m=\u001b[39m np\u001b[38;5;241m.\u001b[39msort(np\u001b[38;5;241m.\u001b[39msum(\u001b[43mnp\u001b[49m\u001b[38;5;241;43m.\u001b[39;49m\u001b[43mabs\u001b[49m\u001b[43m(\u001b[49m\u001b[43mmatrix\u001b[49m\u001b[43m)\u001b[49m, axis\u001b[38;5;241m=\u001b[39m\u001b[38;5;241m1\u001b[39m))[\u001b[38;5;28mint\u001b[39m(k\u001b[38;5;241m-\u001b[39m\u001b[38;5;241m1\u001b[39m)] \u001b[38;5;66;03m#np.max(np.sum(np.abs(matrix), axis=1))\u001b[39;00m\n\u001b[0;32m     17\u001b[0m \u001b[38;5;28;01mreturn\u001b[39;00m infinity_norm\n",
      "\u001b[1;31mKeyboardInterrupt\u001b[0m: "
     ]
    },
    {
     "data": {
      "image/png": "[encoded data removed]",
      "text/plain": [
       "<Figure size 640x480 with 1 Axes>"
      ]
     },
     "metadata": {},
     "output_type": "display_data"
    }
   ],
   "source": [
    "k = 500\n",
    "x = np.arange(k)\n",
    "basis_stand = np.identity(k)\n",
    "basis_four = gram_schmidt(get_fourier(k))\n",
    "basis_poly = gram_schmidt(get_poly(k))\n",
    "basis_rand = random_orthogonal_basis(k)\n",
    "basis_evil = random_orthogonal_basis(k, attack=True)\n",
    "\n",
    "basis_list = [basis_stand, basis_four, basis_poly, basis_rand, basis_evil]\n",
    "labels = ['stand', 'four', 'poly', 'rand', 'evil']\n",
    "\n",
    "for i in range(len(basis_list)):   \n",
    "\n",
    "    # choose the basis\n",
    "    basis = basis_list[i] \n",
    "    mat = np.zeros((k,k))\n",
    "\n",
    "    # infnorms collects the infinity norm of the matrices\n",
    "    infnorms = np.zeros(k)\n",
    "\n",
    "    for d in range(k):\n",
    "\n",
    "        # we incrementally update the matrix adding more and more basis functions\n",
    "        mat += np.dot(basis[:,d:d+1], basis[:,d:d+1].T)\n",
    "        infnorms[d] = inf(mat)\n",
    "\n",
    "    plt.plot(x, infnorms, label = labels[i])\n",
    "\n",
    "\n",
    "plt.legend()\n",
    "plt.xlabel('dimension of the projection space')\n",
    "plt.ylabel('infinity norm')\n",
    "plt.show()"
   ]
  },
  {
   "cell_type": "code",
   "execution_count": 35,
   "metadata": {},
   "outputs": [],
   "source": [
    "def test_submodularity(basis, iter=1000):\n",
    "    k = basis.shape[1]\n",
    "    maxim = -100\n",
    "    for i in range(iter):\n",
    "        mat = []\n",
    "        vec = []\n",
    "        rs = np.random.choice(k,size=3,replace=False)\n",
    "\n",
    "        for i in range(3):\n",
    "            r = rs[i]\n",
    "            vec.append(basis[:,r])\n",
    "            mat.append(np.dot(basis[:,r:r+1], basis[:,r:r+1].T))\n",
    "        \n",
    "        z = inf(mat[0]+mat[1]+mat[2]) - inf(mat[0]+mat[1]) - inf(mat[0]+mat[2]) + inf(mat[0])\n",
    "        if z > maxim:\n",
    "            maxim = z\n",
    "            retvecs = vec\n",
    "    \n",
    "    return maxim, retvecs\n",
    "        \n"
   ]
  },
  {
   "cell_type": "code",
   "execution_count": 36,
   "metadata": {},
   "outputs": [],
   "source": [
    "k = 4\n",
    "vecs = []\n",
    "maxim = 0\n",
    "for _ in range(1000):\n",
    "    basis = random_orthogonal_basis(k)\n",
    "    z, vecs = test_submodularity(basis, iter=min(1000,k**3))\n",
    "    if z > maxim:\n",
    "        retvecs = vecs\n",
    "        maxim = z\n"
   ]
  },
  {
   "cell_type": "code",
   "execution_count": 36,
   "metadata": {},
   "outputs": [
    {
     "name": "stdout",
     "output_type": "stream",
     "text": [
      "5.862956939070147\n"
     ]
    }
   ],
   "source": [
    "## create random basis of dimension k\n",
    "k = 200\n",
    "d = 50\n",
    "basis = random_orthogonal_basis(k)\n",
    "starting_matrix = np.dot(basis[:,:d],basis[:,:d].T)\n",
    "print(inf(starting_matrix))"
   ]
  },
  {
   "cell_type": "code",
   "execution_count": 7,
   "metadata": {},
   "outputs": [
    {
     "name": "stdout",
     "output_type": "stream",
     "text": [
      "6.4423933847542925\n",
      "6.271312915422958\n"
     ]
    }
   ],
   "source": [
    "## this time we add, at each time, the matrix which maked the infinity norm smaller\n",
    "\n",
    "def choose_f(M, vectors):\n",
    "    mio = 100000\n",
    "    idx = 0\n",
    "    for i in range(vectors.shape[1]):\n",
    "        v = vectors[:,i:i+1]\n",
    "        info = inf(M+np.dot(v,v.T))\n",
    "        if info < mio:\n",
    "            mio = info\n",
    "            idx = i\n",
    "    return idx, info\n",
    "\n",
    "def build_low_mat(basis, d):\n",
    "    idx = 0\n",
    "    M = np.zeros((basis.shape[0],basis.shape[0]))\n",
    "    residual = np.copy(basis)\n",
    "    for i in range(d):\n",
    "        v = residual[:,idx:idx+1]\n",
    "        M += np.dot(v,v.T)\n",
    "        residual = np.hstack((residual[:,:idx], residual[:,idx+1:]))\n",
    "        idx, info = choose_f(M, residual)\n",
    "    return info\n",
    "\n",
    "k = 200\n",
    "d = 100\n",
    "basis = random_orthogonal_basis(k)\n",
    "\n",
    "\n",
    "starting_matrix = np.dot(basis[:,:d],basis[:,:d].T)\n",
    "print(inf(starting_matrix))\n",
    "print(build_low_mat(basis, d))"
   ]
  },
  {
   "cell_type": "code",
   "execution_count": 11,
   "metadata": {},
   "outputs": [],
   "source": [
    "\n",
    "\n",
    "def compute_w_proj(V,W):\n",
    "\n",
    "    # compute inner matrix that is going to be inverted\n",
    "    Inner = np.dot(V.T,np.dot(W,V))\n",
    "    In = np.linalg.inv(Inner)\n",
    "\n",
    "    # compute actual projection matrix\n",
    "    P = np.dot(np.dot(V, np.dot(In, V.T)), W)\n",
    "    return P\n",
    "\n",
    "def matrix_derivarive(V, W):\n",
    "\n",
    "    # compute inner matrix that is going to be inverted\n",
    "    Inner = np.dot(V.T,np.dot(W,V))\n",
    "    In = np.linalg.inv(Inner)\n",
    "\n",
    "    # compute actual projection matrix\n",
    "    P = np.dot(np.dot(V, np.dot(In, V.T)), W)\n",
    "\n",
    "    \n",
    "    return P"
   ]
  },
  {
   "cell_type": "code",
   "execution_count": 9,
   "metadata": {},
   "outputs": [
    {
     "data": {
      "text/plain": [
       "(200, 200)"
      ]
     },
     "execution_count": 9,
     "metadata": {},
     "output_type": "execute_result"
    }
   ],
   "source": [
    "W = np.eye(k)/k\n",
    "\n",
    "compute_w_proj(basis, W).shape"
   ]
  },
  {
   "cell_type": "code",
   "execution_count": 35,
   "metadata": {},
   "outputs": [
    {
     "data": {
      "text/plain": [
       "True"
      ]
     },
     "execution_count": 35,
     "metadata": {},
     "output_type": "execute_result"
    }
   ],
   "source": [
    "# test convexity. We choose some data distribution to show that the \n",
    "# weighted infinity norm is *not* a convex function of the (vector-valued) input\n",
    "import numpy as np\n",
    "\n",
    "def test_conv(f, d, samp=1000):\n",
    "    rands = np.random.uniform(size=(samp,d))\n",
    "    sums = np.sum(rands, axis=1)\n",
    "    sums = sums[:, np.newaxis]\n",
    "    rands = rands/sums\n",
    "\n",
    "    fvec = np.zeros(samp)\n",
    "    fvec[0] = f(rands[0,:])\n",
    "\n",
    "    for i in range(samp-1):\n",
    "        fvec[i+1] = f(rands[i+1,:])\n",
    "\n",
    "        mean = (rands[i] + rands[i+1])/2\n",
    "        if f(mean) > (fvec[i] + fvec[i+1])/2:\n",
    "            print(f(mean) - (fvec[i] + fvec[i+1])/2)\n",
    "            return False\n",
    "    \n",
    "    return True\n",
    "\n",
    "def fun(x):\n",
    "    return x[0] + x[1] + x[1]**2\n",
    "\n",
    "test_conv(fun, 2)\n"
   ]
  },
  {
   "cell_type": "code",
   "execution_count": 44,
   "metadata": {},
   "outputs": [],
   "source": [
    "#### define the function giving the effectiveness of every data distribution\n",
    "k = 100\n",
    "d = 30\n",
    "basis = random_orthogonal_basis(k=k)\n",
    "\n",
    "# orthogonal matrix\n",
    "V = basis[:,:d]\n",
    "\n",
    "def compute_w_proj(V,W):\n",
    "\n",
    "    # compute inner matrix that is going to be inverted\n",
    "    Inner = np.dot(V.T,np.dot(W,V))\n",
    "    In = np.linalg.inv(Inner)\n",
    "\n",
    "    # compute actual projection matrix\n",
    "    P = np.dot(np.dot(V, np.dot(In, V.T)), W)\n",
    "    return P\n",
    "\n",
    "\n",
    "# mu given distribution on the k elelments\n",
    "def optimizer(w):\n",
    "    W = np.diag(w)\n",
    "    Mat = compute_w_proj(V,W)\n",
    "    return inf(Mat)\n",
    "    "
   ]
  },
  {
   "cell_type": "code",
   "execution_count": 45,
   "metadata": {},
   "outputs": [
    {
     "data": {
      "text/plain": [
       "True"
      ]
     },
     "execution_count": 45,
     "metadata": {},
     "output_type": "execute_result"
    }
   ],
   "source": [
    "test_conv(optimizer, d=k)"
   ]
  }
 ],
 "metadata": {
  "kernelspec": {
   "display_name": "Python 3",
   "language": "python",
   "name": "python3"
  },
  "language_info": {
   "codemirror_mode": {
    "name": "ipython",
    "version": 3
   },
   "file_extension": ".py",
   "mimetype": "text/x-python",
   "name": "python",
   "nbconvert_exporter": "python",
   "pygments_lexer": "ipython3",
   "version": "3.11.3"
  }
 },
 "nbformat": 4,
 "nbformat_minor": 2
}
